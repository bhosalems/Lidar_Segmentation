{
 "cells": [
  {
   "cell_type": "markdown",
   "metadata": {},
   "source": [
    "# Pointcloud World to Ego Coordinates Tutorial"
   ]
  },
  {
   "cell_type": "markdown",
   "metadata": {},
   "source": [
    "### This tutorials show how to plot pointcloud in the world coordinate and ego coordinate.\n",
    "#### 1.Import required python modules and load sequence data."
   ]
  },
  {
   "cell_type": "code",
   "execution_count": null,
   "metadata": {
    "ExecuteTime": {
     "end_time": "2020-05-14T14:52:19.627445Z",
     "start_time": "2020-05-14T14:52:14.839155Z"
    },
    "pycharm": {
     "is_executing": false
    }
   },
   "outputs": [],
   "source": [
    "import pandaset\n",
    "import os\n",
    "\n",
    "# load dataset\n",
    "dataset = pandaset.DataSet(\"/data/PandaSet\")\n",
    "seq002 = dataset[\"002\"]\n",
    "seq002.load_lidar().load_semseg()"
   ]
  },
  {
   "cell_type": "markdown",
   "metadata": {},
   "source": [
    "#### 2.Plot LIDAR points for Pandar64 and PandarGT in the world coordinate.\n",
    "-  Plot Pandar64 pointcloud by points' labels ```d=0``` colorized as blue\n",
    "-  Plot PandarGT pointcloud by points' labels ```d=1``` colorized as red"
   ]
  },
  {
   "cell_type": "code",
   "execution_count": null,
   "metadata": {
    "ExecuteTime": {
     "start_time": "2020-05-14T14:52:38.946Z"
    },
    "pycharm": {
     "is_executing": false
    }
   },
   "outputs": [],
   "source": [
    "import open3d as o3d\n",
    "\n",
    "seq_idx = 40\n",
    "\n",
    "# get Pandar64 points\n",
    "seq002.lidar.set_sensor(0)\n",
    "pandar64_points = seq002.lidar[seq_idx].to_numpy()\n",
    "print(\"Pandar64 has points: \", pandar64_points.shape)\n",
    "\n",
    "# get PandarGT points\n",
    "seq002.lidar.set_sensor(1)\n",
    "pandarGT_points = seq002.lidar[seq_idx].to_numpy()\n",
    "print(\"PandarGT has points: \", pandarGT_points.shape)\n",
    "\n",
    "axis_pcd = o3d.geometry.TriangleMesh.create_coordinate_frame(size=2.0, origin=[0, 0, 0])\n",
    "\n",
    "p64_pc = o3d.geometry.PointCloud()\n",
    "p64_pc.points = o3d.utility.Vector3dVector(pandar64_points[:, :3])\n",
    "p64_pc.colors = o3d.utility.Vector3dVector([[0, 0, 1] for _ in range(pandar64_points.shape[0])])\n",
    "\n",
    "gt_pc = o3d.geometry.PointCloud()\n",
    "gt_pc.points = o3d.utility.Vector3dVector(pandarGT_points[:, :3])\n",
    "gt_pc.colors = o3d.utility.Vector3dVector([[1, 0, 0] for _ in range(pandarGT_points.shape[0])])\n",
    "\n",
    "o3d.visualization.draw_geometries([axis_pcd, p64_pc, gt_pc], window_name=\"world frame\")\n"
   ]
  },
  {
   "cell_type": "markdown",
   "metadata": {},
   "source": [
    "#### 3.Plot LIDAR points for Pandar64 and PandarGT in the ego coordinate.\n",
    "- Use geometry.lidar_points_to_ego to transform points in the world coordinate to the ego coordinate.\n",
    "- ***geometry.lidar_points_to_ego***\n",
    "    - input\n",
    "        - ***lidar_points***(np.array(\\[N, 3\\])): lidar points in the world coordinates.\n",
    "        - ***lidar_pose***: pose in the world coordinates for one camera in one frame.\n",
    "    - output\n",
    "        - ***lidar_points_in_ego***(np.array(\\[N, 2\\])): lidar points in the ego coordinates."
   ]
  },
  {
   "cell_type": "code",
   "execution_count": null,
   "metadata": {
    "pycharm": {
     "is_executing": false
    }
   },
   "outputs": [],
   "source": [
    "import open3d as o3d\n",
    "from pandaset import geometry\n",
    "\n",
    "ego_pandar64_points = geometry.lidar_points_to_ego(pandar64_points[:, :3], seq002.lidar.poses[seq_idx])\n",
    "p64_pc = o3d.geometry.PointCloud()\n",
    "p64_pc.points = o3d.utility.Vector3dVector(ego_pandar64_points)\n",
    "p64_pc.colors = o3d.utility.Vector3dVector([[0, 0, 1] for _ in range(pandar64_points.shape[0])])\n",
    "\n",
    "ego_pandarGT_points = geometry.lidar_points_to_ego(pandarGT_points[:, :3], seq002.lidar.poses[seq_idx])\n",
    "gt_pc = o3d.geometry.PointCloud()\n",
    "gt_pc.points = o3d.utility.Vector3dVector(ego_pandarGT_points)\n",
    "gt_pc.colors = o3d.utility.Vector3dVector([[1, 0, 0] for _ in range(pandarGT_points.shape[0])])\n",
    "\n",
    "o3d.visualization.draw_geometries([axis_pcd, p64_pc, gt_pc], window_name=\"ego frame\")"
   ]
  },
  {
   "cell_type": "code",
   "execution_count": null,
   "metadata": {},
   "outputs": [],
   "source": []
  }
 ],
 "metadata": {
  "kernelspec": {
   "display_name": "python3.7",
   "language": "python",
   "name": "python3.7"
  },
  "language_info": {
   "codemirror_mode": {
    "name": "ipython",
    "version": 3
   },
   "file_extension": ".py",
   "mimetype": "text/x-python",
   "name": "python",
   "nbconvert_exporter": "python",
   "pygments_lexer": "ipython3",
   "version": "3.7.6"
  },
  "pycharm": {
   "stem_cell": {
    "cell_type": "raw",
    "metadata": {
     "collapsed": false
    },
    "source": []
   }
  },
  "toc": {
   "base_numbering": 1,
   "nav_menu": {},
   "number_sections": true,
   "sideBar": true,
   "skip_h1_title": false,
   "title_cell": "Table of Contents",
   "title_sidebar": "Contents",
   "toc_cell": false,
   "toc_position": {},
   "toc_section_display": true,
   "toc_window_display": false
  },
  "varInspector": {
   "cols": {
    "lenName": 16,
    "lenType": 16,
    "lenVar": 40
   },
   "kernels_config": {
    "python": {
     "delete_cmd_postfix": "",
     "delete_cmd_prefix": "del ",
     "library": "var_list.py",
     "varRefreshCmd": "print(var_dic_list())"
    },
    "r": {
     "delete_cmd_postfix": ") ",
     "delete_cmd_prefix": "rm(",
     "library": "var_list.r",
     "varRefreshCmd": "cat(var_dic_list()) "
    }
   },
   "types_to_exclude": [
    "module",
    "function",
    "builtin_function_or_method",
    "instance",
    "_Feature"
   ],
   "window_display": false
  }
 },
 "nbformat": 4,
 "nbformat_minor": 2
}
